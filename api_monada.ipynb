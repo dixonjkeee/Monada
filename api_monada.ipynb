{
 "cells": [
  {
   "cell_type": "code",
   "execution_count": 33,
   "id": "94b0ba70",
   "metadata": {},
   "outputs": [],
   "source": [
    "import requests\n",
    "import json\n",
    "import pandas as pd \n",
    "import numpy as np \n",
    "from keys import token, company_id, login, password"
   ]
  },
  {
   "cell_type": "markdown",
   "id": "8be80759",
   "metadata": {},
   "source": [
    "## Авторизация и получение данных о пользователе"
   ]
  },
  {
   "cell_type": "code",
   "execution_count": null,
   "id": "5c703929",
   "metadata": {},
   "outputs": [],
   "source": [
    "url = 'https://api.yclients.com/api/v1/auth'\n",
    "\n",
    "headers = {\n",
    "    \"Authorization\": f\"Bearer {token}\",\n",
    "    \"Accept\": \"application/vnd.yclients.v2+json\"\n",
    "}\n",
    "payload = {\n",
    "    \"login\": login,\n",
    "    \"password\": password\n",
    "}\n",
    "\n",
    "response = requests.post(url, headers=headers, json=payload)\n",
    "print(response.status_code)\n",
    "print(response.json()['data'])"
   ]
  },
  {
   "cell_type": "markdown",
   "id": "b9dfdce0",
   "metadata": {},
   "source": [
    "## Информация по компании"
   ]
  },
  {
   "cell_type": "code",
   "execution_count": null,
   "id": "4ea373c9",
   "metadata": {},
   "outputs": [],
   "source": [
    "url = f\"https://api.yclients.com/api/v1/company/{company_id}\"\n",
    "\n",
    "headers = {\n",
    "    \"Accept\": \"application/vnd.yclients.v2+json\",\n",
    "    \"Authorization\": token \n",
    "}\n",
    "\n",
    "response = requests.get(url, headers=headers)\n",
    "response.json()['data']"
   ]
  }
 ],
 "metadata": {
  "kernelspec": {
   "display_name": "Python 3",
   "language": "python",
   "name": "python3"
  },
  "language_info": {
   "codemirror_mode": {
    "name": "ipython",
    "version": 3
   },
   "file_extension": ".py",
   "mimetype": "text/x-python",
   "name": "python",
   "nbconvert_exporter": "python",
   "pygments_lexer": "ipython3",
   "version": "3.10.11"
  }
 },
 "nbformat": 4,
 "nbformat_minor": 5
}
