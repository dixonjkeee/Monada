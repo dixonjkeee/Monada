{
 "cells": [
  {
   "cell_type": "code",
   "execution_count": 50,
   "id": "94b0ba70",
   "metadata": {},
   "outputs": [
    {
     "name": "stdout",
     "output_type": "stream",
     "text": [
      "'cjt8gsr4we7pt2td6xsj'\n"
     ]
    }
   ],
   "source": [
    "import requests\n",
    "import json\n",
    "import pandas as pd \n",
    "import numpy as np \n",
    "import os\n",
    "from pprint import pprint\n",
    "from dotenv import load_dotenv\n",
    "from sqlalchemy import create_engine\n",
    "from tqdm import tqdm\n",
    "from sqlalchemy import Table, Column, MetaData, String, Numeric, JSON, DateTime, Integer, Boolean\n",
    "from sqlalchemy.dialects.postgresql import JSONB\n",
    "from datetime import datetime, timedelta\n",
    "\n",
    "load_dotenv()\n",
    "partner_token = os.getenv('PARTNER_TOKEN')\n",
    "login = os.getenv('LOGIN')\n",
    "password = os.getenv('PASSWORD')\n",
    "company_id = os.getenv('COMPANY_ID')\n",
    "partner_id = os.getenv('PARTNER_ID')\n",
    "\n",
    "print(repr(partner_token))"
   ]
  },
  {
   "cell_type": "markdown",
   "id": "8be80759",
   "metadata": {},
   "source": [
    "## Авторизация и получение данных о пользователе"
   ]
  },
  {
   "cell_type": "code",
   "execution_count": 2,
   "id": "5c703929",
   "metadata": {},
   "outputs": [
    {
     "name": "stdout",
     "output_type": "stream",
     "text": [
      "201\n"
     ]
    }
   ],
   "source": [
    "url = 'https://api.yclients.com/api/v1/auth'\n",
    "\n",
    "headers = {\n",
    "    \"Authorization\": f\"Bearer {partner_token}\",\n",
    "    \"Accept\": \"application/vnd.yclients.v2+json\"\n",
    "}\n",
    "payload = {\n",
    "    \"login\": login,\n",
    "    \"password\": password\n",
    "}\n",
    "\n",
    "response = requests.post(url, headers=headers, json=payload)\n",
    "user_token = response.json()['data']['user_token'] # получаем юзер токен\n",
    "print(response.status_code)"
   ]
  },
  {
   "cell_type": "markdown",
   "id": "b9dfdce0",
   "metadata": {},
   "source": [
    "## Информация по компании"
   ]
  },
  {
   "cell_type": "code",
   "execution_count": 58,
   "id": "4ea373c9",
   "metadata": {},
   "outputs": [
    {
     "data": {
      "text/plain": [
       "{'id': 1021433,\n",
       " 'title': 'Monada',\n",
       " 'public_title': 'Monada',\n",
       " 'short_descr': 'Салон красоты',\n",
       " 'logo': 'https://assets.yclients.com/general/b/b4/b49b6c35692b707_20240518125410.png',\n",
       " 'country_id': 1,\n",
       " 'country': 'Россия',\n",
       " 'city_id': 20,\n",
       " 'city': 'Красноярск',\n",
       " 'active': 1,\n",
       " 'phone': '+7 391 200-81-83',\n",
       " 'phones': ['+7 391 200-81-83'],\n",
       " 'email': '',\n",
       " 'timezone': 7,\n",
       " 'timezone_name': 'Asia/Krasnoyarsk',\n",
       " 'schedule': '09:00 - 21:00',\n",
       " 'address': 'проспект Мира, 86',\n",
       " 'coordinate_lat': 56.011956,\n",
       " 'coordinate_lon': 92.865093,\n",
       " 'app_ios': '',\n",
       " 'app_android': '',\n",
       " 'phone_confirmation': False,\n",
       " 'currency_short_title': '₽',\n",
       " 'reminds_sms_disabled': False,\n",
       " 'reminds_sms_default': 1,\n",
       " 'group_priority': 0,\n",
       " 'bookform_group_priority': 0,\n",
       " 'description': '<div>MONADA<br /></div><div>Мы создаем красоту:</div><div>- все виды маникюра и педикюра</div><div>- макияж и укладки</div><div>- уход за бровями и ресницами</div><div>- услуги в 4 руки</div><div>- массаж&nbsp;</div><div><br /></div><div>Если Вы не нашли нужное время, напишите нашему администратору она обязательно подберет вам удобное время.&nbsp;</div><div>+7 (953) 992-28-92 (WhatsApp)<br /></div><div><br /></div>',\n",
       " 'photos': ['general/f/f6/f6963f46cf20f4c_20240618134836.png'],\n",
       " 'company_photos': ['https://assets.yclients.com/general/f/f6/f6963f46cf20f4c_20240618134836.png'],\n",
       " 'seance_delay_step': 0,\n",
       " 'show_any_master': True,\n",
       " 'allow_delete_record': True,\n",
       " 'allow_change_record': True,\n",
       " 'allow_change_prepaid_record': False,\n",
       " 'allow_delete_prepaid_record': False,\n",
       " 'prepayment_waiting_duration_ms': 900000,\n",
       " 'allow_change_record_delay_step': 14400,\n",
       " 'allow_delete_record_delay_step': 14400,\n",
       " 'timetable_off': False,\n",
       " 'site': 'wa.me/79539922892',\n",
       " 'zip': '660049',\n",
       " 'business_group_id': 1,\n",
       " 'business_type_id': 1,\n",
       " 'is_charge_active': False,\n",
       " 'is_charge_optional': False,\n",
       " 'is_abonement_restriction_enabled': False,\n",
       " 'print_bill_on': 0,\n",
       " 'print_bill_type': '',\n",
       " 'record_type_id': 0,\n",
       " 'split_records_by_resources': 0,\n",
       " 'auto_pay_account_id': 2088362,\n",
       " 'auto_pay_bank_account_id': 2088363,\n",
       " 'is_admin_app': 0,\n",
       " 'push_notification_phone_confirm': 1,\n",
       " 'switched_to_tariff': True,\n",
       " 'sms_enabled': True,\n",
       " 'is_offline_record_notification_enabled': True,\n",
       " 'activity_record_clients_count_max': 1,\n",
       " 'activity_online_record_clients_count_max': 1,\n",
       " 'is_individual': False,\n",
       " 'is_tips_enabled': True,\n",
       " 'email_hours_default': 12,\n",
       " 'is_show_privacy_policy': False,\n",
       " 'is_surname_field_enabled': True,\n",
       " 'is_patronymic_field_enabled': False,\n",
       " 'master_name': '',\n",
       " 'is_client_search_by_loyalty_enabled': False,\n",
       " 'is_show_timetable_record_master_resources': True,\n",
       " 'social': {'facebook': '',\n",
       "  'vk': '',\n",
       "  'instagram': '',\n",
       "  'telegram': '',\n",
       "  'whatsapp': '',\n",
       "  'viber': ''},\n",
       " 'main_group_id': 1020775,\n",
       " 'main_group': {'id': 1020775, 'title': 'Пространство любви к себе \"Monada\"'},\n",
       " 'salon_group_settings': {'id': 6186,\n",
       "  'salonGroupId': 1020775,\n",
       "  'isActiveAutofillMaster': False,\n",
       "  'isActiveAddMasterOnlyPhone': False,\n",
       "  'isActiveSettings': True},\n",
       " 'booking_comment_required': False,\n",
       " 'booking_email_required': False,\n",
       " 'booking_comment_hidden': False,\n",
       " 'booking_email_hidden': False,\n",
       " 'booking_surname_required': False,\n",
       " 'booking_patronymic_required': False,\n",
       " 'booking_widget_promo': {'flocktory_url': 'https://share.flocktory.com/exchange/login?ssid=3426&bid=4976&email=xname@flocktory.com'},\n",
       " 'is_review_request_notification_enabled': False}"
      ]
     },
     "execution_count": 58,
     "metadata": {},
     "output_type": "execute_result"
    }
   ],
   "source": [
    "url = f\"https://api.yclients.com/api/v1/company/{company_id}\"\n",
    "\n",
    "headers = {\n",
    "    \"Accept\": \"application/vnd.yclients.v2+json\",\n",
    "    \"Authorization\": partner_token\n",
    "}\n",
    "\n",
    "response = requests.get(url, headers=headers)\n",
    "response.json()['data']"
   ]
  },
  {
   "cell_type": "markdown",
   "id": "6d530685",
   "metadata": {},
   "source": [
    "## Получение данных"
   ]
  },
  {
   "cell_type": "code",
   "execution_count": 4,
   "id": "7d73819f",
   "metadata": {},
   "outputs": [
    {
     "name": "stdout",
     "output_type": "stream",
     "text": [
      "{'client_stats': {'active_count': 599,\n",
      "                  'lost_count': 419,\n",
      "                  'lost_percent': 33,\n",
      "                  'new_count': 340,\n",
      "                  'new_percent': 57,\n",
      "                  'return_count': 259,\n",
      "                  'return_percent': 43,\n",
      "                  'total_count': 1262},\n",
      " 'fullness_stats': {'change_percent': 16,\n",
      "                    'current_percent': 46.9,\n",
      "                    'previous_percent': 40.2},\n",
      " 'income_average_services_stats': {'change_percent': -4,\n",
      "                                   'currency': {'id': 1,\n",
      "                                                'is_symbol_after_amount': True,\n",
      "                                                'iso': 'RUB',\n",
      "                                                'name': 'Russian Ruble',\n",
      "                                                'symbol': '₽'},\n",
      "                                   'current_sum': '1983.2',\n",
      "                                   'previous_sum': '2084.17'},\n",
      " 'income_average_stats': {'change_percent': 1,\n",
      "                          'currency': {'id': 1,\n",
      "                                       'is_symbol_after_amount': True,\n",
      "                                       'iso': 'RUB',\n",
      "                                       'name': 'Russian Ruble',\n",
      "                                       'symbol': '₽'},\n",
      "                          'current_sum': '2110.83',\n",
      "                          'previous_sum': '2082.01'},\n",
      " 'income_goods_stats': {'change_percent': 437,\n",
      "                        'currency': {'id': 1,\n",
      "                                     'is_symbol_after_amount': True,\n",
      "                                     'iso': 'RUB',\n",
      "                                     'name': 'Russian Ruble',\n",
      "                                     'symbol': '₽'},\n",
      "                        'current_sum': '353902',\n",
      "                        'previous_sum': '65789'},\n",
      " 'income_services_stats': {'change_percent': 6,\n",
      "                           'currency': {'id': 1,\n",
      "                                        'is_symbol_after_amount': True,\n",
      "                                        'iso': 'RUB',\n",
      "                                        'name': 'Russian Ruble',\n",
      "                                        'symbol': '₽'},\n",
      "                           'current_sum': '3006531.55',\n",
      "                           'previous_sum': '2815710'},\n",
      " 'income_total_stats': {'change_percent': 16,\n",
      "                        'currency': {'id': 1,\n",
      "                                     'is_symbol_after_amount': True,\n",
      "                                     'iso': 'RUB',\n",
      "                                     'name': 'Russian Ruble',\n",
      "                                     'symbol': '₽'},\n",
      "                        'current_sum': '3360433.55',\n",
      "                        'previous_sum': '2881499'},\n",
      " 'record_stats': {'change_percent': 14,\n",
      "                  'current_canceled_count': 622,\n",
      "                  'current_canceled_percent': 26,\n",
      "                  'current_completed_count': 1676,\n",
      "                  'current_completed_percent': 71,\n",
      "                  'current_pending_count': 68,\n",
      "                  'current_pending_percent': 3,\n",
      "                  'current_total_count': 2366,\n",
      "                  'previous_total_count': 2070}}\n"
     ]
    }
   ],
   "source": [
    "url = f\"https://api.yclients.com/api/v1/company/{company_id}/analytics/overall/\"\n",
    "\n",
    "headers = {\n",
    "    \"Accept\": \"application/vnd.yclients.v2+json\",\n",
    "    \"Authorization\": f\"Bearer {partner_token}, User {user_token}\"\n",
    "}\n",
    "\n",
    "params = {\n",
    "    \"date_from\": \"2025-01-01\",\n",
    "    \"date_to\": \"2025-04-24\",\n",
    "}\n",
    "\n",
    "response = requests.get(url, headers=headers, params=params)\n",
    "pprint(response.json()['data'])"
   ]
  },
  {
   "cell_type": "markdown",
   "id": "f768e3c1",
   "metadata": {},
   "source": [
    "## Получить данные всех сущностей"
   ]
  },
  {
   "cell_type": "markdown",
   "id": "1e5d69d8",
   "metadata": {},
   "source": [
    "### Задаем параметры для API yclients"
   ]
  },
  {
   "cell_type": "code",
   "execution_count": 5,
   "id": "e8865310",
   "metadata": {},
   "outputs": [],
   "source": [
    "url = f\"https://api.yclients.com/api/v1/company/{company_id}/clients/search\"\n",
    "\n",
    "headers = {\n",
    "    \"Accept\": \"application/vnd.yclients.v2+json\",\n",
    "    \"Content-Type\": \"application/json\",\n",
    "    \"Authorization\": f\"Bearer {partner_token}, User {user_token}\"\n",
    "}"
   ]
  },
  {
   "cell_type": "markdown",
   "id": "60df6133",
   "metadata": {},
   "source": [
    "### Задаем параметры для поключения к БД"
   ]
  },
  {
   "cell_type": "code",
   "execution_count": 6,
   "id": "afdfa002",
   "metadata": {},
   "outputs": [],
   "source": [
    "# === Данные подключения к PostgreSQL ===\n",
    "db_user = 'user'\n",
    "db_password = 'password'\n",
    "db_name = 'Monada'\n",
    "db_host = 'localhost'\n",
    "db_port = '5433'\n",
    "\n",
    "# Строка подключения\n",
    "connection_string = f'postgresql+psycopg2://{db_user}:{db_password}@{db_host}:{db_port}/{db_name}'\n",
    "engine = create_engine(connection_string)"
   ]
  },
  {
   "cell_type": "markdown",
   "id": "a5e1b3df",
   "metadata": {},
   "source": [
    "### Создаем функцию для загрузки всех страниц из API "
   ]
  },
  {
   "cell_type": "code",
   "execution_count": 7,
   "id": "f03a6f5b",
   "metadata": {},
   "outputs": [],
   "source": [
    "# === Функция для загрузки всех страниц из API ===\n",
    "def get_all_pages(url, method='GET', body=None):\n",
    "    page = 1\n",
    "    all_data = []\n",
    "\n",
    "    with tqdm(desc=f\"Загрузка {url.split('/')[-1]}\") as pbar:\n",
    "        while True:\n",
    "            params_or_json = {\"page\": page, \"page_size\": 100}\n",
    "            if method == 'GET':\n",
    "                response = requests.get(url, headers=headers, params=params_or_json)\n",
    "            else:\n",
    "                if body:\n",
    "                    body.update(params_or_json)\n",
    "                response = requests.post(url, headers=headers, json=body)\n",
    "\n",
    "            if response.status_code != 200:\n",
    "                print(f\"Ошибка запроса: {response.status_code} {response.text}\")\n",
    "                break\n",
    "\n",
    "            data = response.json().get('data', [])\n",
    "            if not data:\n",
    "                break\n",
    "\n",
    "            all_data.extend(data)\n",
    "            page += 1\n",
    "            pbar.update(len(data))\n",
    "\n",
    "    return all_data"
   ]
  },
  {
   "cell_type": "markdown",
   "id": "b25430a6",
   "metadata": {},
   "source": [
    "### Создаем функцию для преобразования списков и словарей в JSON строки"
   ]
  },
  {
   "cell_type": "code",
   "execution_count": null,
   "id": "3dfe7504",
   "metadata": {},
   "outputs": [],
   "source": [
    "def normalize_json_columns(df):\n",
    "    \"\"\"\n",
    "    Преобразует все столбцы, содержащие списки или словари, в строки JSON.\n",
    "    \"\"\"\n",
    "    for col in df.columns:\n",
    "        if df[col].apply(lambda x: isinstance(x, (dict, list))).any():\n",
    "            df[col] = df[col].apply(lambda x: json.dumps(x, ensure_ascii=False) if isinstance(x, (dict, list)) else x)\n",
    "    return df"
   ]
  },
  {
   "cell_type": "markdown",
   "id": "81fad32a",
   "metadata": {},
   "source": [
    "### Создаем функции получения данных каждой сущности"
   ]
  },
  {
   "cell_type": "code",
   "execution_count": null,
   "id": "b3b1af11",
   "metadata": {},
   "outputs": [],
   "source": [
    "\n",
    "# === Функции для каждой сущности ===\n",
    "\n",
    "def get_clients():\n",
    "    url = f\"https://api.yclients.com/api/v1/company/{company_id}/clients/search\"\n",
    "    body = {\n",
    "        \"fields\": [\n",
    "            \"id\",\n",
    "            \"name\",\n",
    "            \"surname\",\n",
    "            \"phone\",\n",
    "            \"email\",\n",
    "            \"birthday\",\n",
    "            \"card\",\n",
    "            \"created_at\",\n",
    "            \"last_appointment_date\",\n",
    "            \"appointments_count\",\n",
    "            \"tags\",\n",
    "            \"is_new\",\n",
    "            \"custom_fields\"\n",
    "        ]\n",
    "    }\n",
    "    df = pd.DataFrame(get_all_pages(url, method='POST', body=body))\n",
    "    return normalize_json_columns(df)\n",
    "\n",
    "def get_records():\n",
    "    url = f\"https://api.yclients.com/api/v1/records/{company_id}\"\n",
    "    data = get_all_pages(url, method='GET')\n",
    "    \n",
    "    df = pd.json_normalize(data, sep='_')  # Убираем вложенность через нижнее подчеркивание\n",
    "    return normalize_json_columns(df)\n",
    "\n",
    "def get_staff():\n",
    "    url = f\"https://api.yclients.com/api/v1/company/{company_id}/staff\"\n",
    "    df = pd.DataFrame(get_all_pages(url, method='GET'))\n",
    "    return normalize_json_columns(df)\n",
    "\n",
    "def get_services():\n",
    "    url = f\"https://api.yclients.com/api/v1/company/{company_id}/services\"\n",
    "    body = {\n",
    "            \"fields\": [\n",
    "            \"id\",\n",
    "            \"company_id\",\n",
    "            \"title\",\n",
    "            \"description\",\n",
    "            \"cost\",\n",
    "            \"cost_to_pay\",\n",
    "            \"cost_per_unit\",\n",
    "            \"amount\",\n",
    "            \"discount\",\n",
    "            \"first_cost\",\n",
    "            \"is_active\",\n",
    "            \"category_id\"\n",
    "        ]\n",
    "    }\n",
    "    df = pd.DataFrame(get_all_pages(url, method='GET'))\n",
    "    return normalize_json_columns(df)\n",
    "\n",
    "def get_goods():\n",
    "    url = f\"https://api.yclients.com/api/v1/company/{company_id}/goods\"\n",
    "    df = pd.DataFrame(get_all_pages(url, method='GET'))\n",
    "    return normalize_json_columns(df)\n",
    "\n",
    "def get_goods_transactions():\n",
    "    url = f\"https://api.yclients.com/api/v1/company/{company_id}/goods/transactions\"\n",
    "    df = pd.DataFrame(get_all_pages(url, method='GET'))\n",
    "    return normalize_json_columns(df)\n",
    "\n",
    "def get_company():\n",
    "    url = f\"https://api.yclients.com/api/v1/company/{company_id}\"\n",
    "    df = pd.DataFrame(get_all_pages(url, method='GET'))\n",
    "    return normalize_json_columns(df)\n",
    "\n",
    "def get_finance_pay_methods():\n",
    "    url = f\"https://api.yclients.com/api/v1/finance/pay_methods/{company_id}\"\n",
    "    df = pd.DataFrame(get_all_pages(url, method='GET'))\n",
    "    return normalize_json_columns(df)\n",
    "\n",
    "def get_finance_operations():\n",
    "    url = f\"https://api.yclients.com/api/v1/finance/operations/{company_id}\"\n",
    "    df = pd.DataFrame(get_all_pages(url, method='GET'))\n",
    "    return normalize_json_columns(df)\n",
    "\n",
    "def get_schedules():\n",
    "    url = f\"https://api.yclients.com/api/v1/company/{company_id}/schedules\"\n",
    "    df = pd.DataFrame(get_all_pages(url, method='GET'))\n",
    "    return normalize_json_columns(df)\n"
   ]
  },
  {
   "cell_type": "markdown",
   "id": "31a159bf",
   "metadata": {},
   "source": [
    "### Создаем функцию для создания таблиц с правильными типами данных в БД"
   ]
  },
  {
   "cell_type": "code",
   "execution_count": null,
   "id": "ef161f65",
   "metadata": {},
   "outputs": [],
   "source": [
    "# === Функция для создания таблиц с правильными типами данных в БД ===\n",
    "\n",
    "def create_table_with_types(df, table_name, engine):\n",
    "    metadata = MetaData()\n",
    "    columns = []\n",
    "\n",
    "    for col in df.columns:\n",
    "        sample_value = df[col].dropna().iloc[0] if not df[col].dropna().empty else None\n",
    "\n",
    "        if isinstance(sample_value, dict) or isinstance(sample_value, list):\n",
    "            col_type = JSONB\n",
    "        elif isinstance(sample_value, bool):\n",
    "            col_type = Boolean\n",
    "        elif isinstance(sample_value, int):\n",
    "            col_type = Integer\n",
    "        elif isinstance(sample_value, float):\n",
    "            col_type = Numeric\n",
    "        elif isinstance(sample_value, datetime.datetime):\n",
    "            col_type = DateTime\n",
    "        else:\n",
    "            col_type = String\n",
    "\n",
    "        columns.append(Column(col, col_type))\n",
    "\n",
    "    table = Table(table_name, metadata, *columns)\n",
    "    metadata.drop_all(engine, [table], checkfirst=True)  # Удалить если уже есть (заменить)\n",
    "    metadata.create_all(engine)  # Создать таблицу с нужными типами\n",
    "    print(f\"✅ Таблица {table_name} создана с правильными типами колонок.\")"
   ]
  },
  {
   "cell_type": "markdown",
   "id": "250f55fc",
   "metadata": {},
   "source": [
    "### Создаем функцию для заливки датафрейма в БД"
   ]
  },
  {
   "cell_type": "code",
   "execution_count": null,
   "id": "6e9a4126",
   "metadata": {},
   "outputs": [],
   "source": [
    "# === Функция для заливки датафрейма в БД ===\n",
    "\n",
    "def upload_to_postgres(df, table_name):\n",
    "    if not df.empty:\n",
    "        create_table_with_types(df, table_name, engine)\n",
    "        df.to_sql(table_name, engine, if_exists='append', index=False)\n",
    "        print(f\"📥 Данные загружены в таблицу {table_name} ({len(df)} строк).\")\n",
    "    else:\n",
    "        print(f\"⚠️ Таблица {table_name} пуста, пропущена.\")"
   ]
  },
  {
   "cell_type": "markdown",
   "id": "794fde82",
   "metadata": {},
   "source": [
    "### Получаем данные и загружаем их в БД"
   ]
  },
  {
   "cell_type": "code",
   "execution_count": null,
   "id": "0a2f89f4",
   "metadata": {},
   "outputs": [],
   "source": [
    "# === Основной процесс ===\n",
    "\n",
    "print(\"🚀 Начинаем полную загрузку данных из YClients и запись в PostgreSQL...\\n\")\n",
    "\n",
    "entities = {\n",
    "    \"clients\": get_clients,\n",
    "    \"records\": get_records,\n",
    "    \"staff\": get_staff,\n",
    "    \"services\": get_services,\n",
    "    \"goods\": get_goods,\n",
    "    \"goods_transactions\": get_goods_transactions,\n",
    "    \"companies\": get_company,\n",
    "    \"finance_operations\": get_finance_operations,\n",
    "    \"schedules\": get_schedules\n",
    "}\n",
    "\n",
    "for table_name, func in entities.items():\n",
    "    print(f\"\\n=== {table_name.upper()} ===\")\n",
    "    df = func()\n",
    "    upload_to_postgres(df, table_name)\n",
    "\n",
    "print(\"\\n🎉 Все данные успешно загружены в БД!\")"
   ]
  }
 ],
 "metadata": {
  "kernelspec": {
   "display_name": "Python 3",
   "language": "python",
   "name": "python3"
  },
  "language_info": {
   "codemirror_mode": {
    "name": "ipython",
    "version": 3
   },
   "file_extension": ".py",
   "mimetype": "text/x-python",
   "name": "python",
   "nbconvert_exporter": "python",
   "pygments_lexer": "ipython3",
   "version": "3.9.6"
  }
 },
 "nbformat": 4,
 "nbformat_minor": 5
}
