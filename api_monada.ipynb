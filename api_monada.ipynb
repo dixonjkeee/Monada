{
 "cells": [
  {
   "cell_type": "code",
   "execution_count": null,
   "id": "94b0ba70",
   "metadata": {},
   "outputs": [],
   "source": [
    "import requests\n",
    "import json\n",
    "import pandas as pd \n",
    "import numpy as np \n",
    "import os\n",
    "from pprint import pprint\n",
    "from dotenv import load_dotenv\n",
    "\n",
    "load_dotenv()\n",
    "partner_token = os.getenv('PARTNER_TOKEN')\n",
    "login = os.getenv('LOGIN')\n",
    "password = os.getenv('PASSWORD')\n",
    "company_id = os.getenv('COMPANY_ID')\n",
    "partner_id = os.getenv('PARTNER_ID')"
   ]
  },
  {
   "cell_type": "markdown",
   "id": "8be80759",
   "metadata": {},
   "source": [
    "## Авторизация и получение данных о пользователе"
   ]
  },
  {
   "cell_type": "code",
   "execution_count": 10,
   "id": "5c703929",
   "metadata": {},
   "outputs": [
    {
     "name": "stdout",
     "output_type": "stream",
     "text": [
      "201\n"
     ]
    }
   ],
   "source": [
    "url = 'https://api.yclients.com/api/v1/auth'\n",
    "\n",
    "headers = {\n",
    "    \"Authorization\": f\"Bearer {partner_token}\",\n",
    "    \"Accept\": \"application/vnd.yclients.v2+json\"\n",
    "}\n",
    "payload = {\n",
    "    \"login\": login,\n",
    "    \"password\": password\n",
    "}\n",
    "\n",
    "response = requests.post(url, headers=headers, json=payload)\n",
    "user_token = response.json()['data']['user_token'] # получаем юзер токен\n",
    "print(response.status_code)"
   ]
  },
  {
   "cell_type": "markdown",
   "id": "b9dfdce0",
   "metadata": {},
   "source": [
    "## Информация по компании"
   ]
  },
  {
   "cell_type": "code",
   "execution_count": null,
   "id": "4ea373c9",
   "metadata": {},
   "outputs": [],
   "source": [
    "url = f\"https://api.yclients.com/api/v1/company/{company_id}\"\n",
    "\n",
    "headers = {\n",
    "    \"Accept\": \"application/vnd.yclients.v2+json\",\n",
    "    \"Authorization\": partner_token\n",
    "}\n",
    "\n",
    "response = requests.get(url, headers=headers)\n",
    "response.json()['data']"
   ]
  },
  {
   "cell_type": "markdown",
   "id": "6d530685",
   "metadata": {},
   "source": [
    "## Получение данных"
   ]
  },
  {
   "cell_type": "code",
   "execution_count": null,
   "id": "7d73819f",
   "metadata": {},
   "outputs": [],
   "source": [
    "url = f\"https://api.yclients.com/api/v1/company/{company_id}/analytics/overall/\"\n",
    "\n",
    "headers = {\n",
    "    \"Accept\": \"application/vnd.yclients.v2+json\",\n",
    "    \"Authorization\": f\"Bearer {partner_token}, User {user_token}\"\n",
    "}\n",
    "\n",
    "params = {\n",
    "    \"date_from\": \"2025-01-01\",\n",
    "    \"date_to\": \"2025-04-24\",\n",
    "}\n",
    "\n",
    "response = requests.get(url, headers=headers, params=params)\n",
    "pprint(response.json()['data'])"
   ]
  },
  {
   "cell_type": "markdown",
   "id": "f768e3c1",
   "metadata": {},
   "source": [
    "## Получить клиентов"
   ]
  },
  {
   "cell_type": "code",
   "execution_count": null,
   "id": "e8865310",
   "metadata": {},
   "outputs": [],
   "source": [
    "url = f\"https://api.yclients.com/api/v1/company/{company_id}/clients/search\"\n",
    "\n",
    "headers = {\n",
    "    \"Accept\": \"application/vnd.yclients.v2+json\",\n",
    "    \"Content-Type\" : \"application/json\",\n",
    "    \"Authorization\": f\"Bearer {partner_token}, User {user_token}\"\n",
    "}\n",
    "\n",
    "params = {\n",
    "  \"page\": 1,\n",
    "  \"page_size\": 3,\n",
    "  \"fields\": [\n",
    "    \"id\",\n",
    "    \"name\"\n",
    "  ],\n",
    "  \"order_by\": \"name\",\n",
    "  \"order_by_direction\": \"desc\"\n",
    "}\n",
    "response = requests.post(url, headers=headers, json=params)\n",
    "response.json()"
   ]
  },
  {
   "cell_type": "markdown",
   "id": "5ad48132",
   "metadata": {},
   "source": [
    "## Получить список записей"
   ]
  },
  {
   "cell_type": "code",
   "execution_count": null,
   "id": "feed1dfe",
   "metadata": {},
   "outputs": [],
   "source": [
    "url = f\"https://api.yclients.com/api/v1/records/{company_id}\"\n",
    "\n",
    "headers = {\n",
    "    \"Accept\": \"application/vnd.yclients.v2+json\",\n",
    "    \"Content-Type\" : \"application/json\",\n",
    "    \"Authorization\": f\"Bearer {partner_token}, User {user_token}\"\n",
    "}\n",
    "\n",
    "# params = {\n",
    "#   \"page\": 1,\n",
    "#   \"count\": 50,\n",
    "#   \"staff_id\": ,\n",
    "#   \"client_id\": ,\n",
    "#   \"start_date\": ,\n",
    "#   \"end_date\" : \n",
    "# }\n",
    "response = requests.get(url, headers=headers)\n",
    "response.json()"
   ]
  }
 ],
 "metadata": {
  "kernelspec": {
   "display_name": "Python 3",
   "language": "python",
   "name": "python3"
  },
  "language_info": {
   "codemirror_mode": {
    "name": "ipython",
    "version": 3
   },
   "file_extension": ".py",
   "mimetype": "text/x-python",
   "name": "python",
   "nbconvert_exporter": "python",
   "pygments_lexer": "ipython3",
   "version": "3.10.11"
  }
 },
 "nbformat": 4,
 "nbformat_minor": 5
}
