{
 "cells": [
  {
   "cell_type": "code",
   "execution_count": null,
   "id": "94b0ba70",
   "metadata": {},
   "outputs": [],
   "source": [
    "import requests\n",
    "import pandas as pd \n",
    "import os\n",
    "from dotenv import load_dotenv\n",
    "from sqlalchemy import create_engine\n",
    "from functions import get_all_pages, transform_staff, upload_to_postgres, upload_to_postgres\n",
    "\n",
    "load_dotenv()\n",
    "partner_token = os.getenv('PARTNER_TOKEN')\n",
    "login = os.getenv('LOGIN')\n",
    "password = os.getenv('PASSWORD')\n",
    "company_id = os.getenv('COMPANY_ID')\n",
    "partner_id = os.getenv('PARTNER_ID')\n",
    "\n",
    "pd.options.display.max_rows = 200\n",
    "pd.options.display.max_columns = 80"
   ]
  },
  {
   "cell_type": "markdown",
   "id": "8be80759",
   "metadata": {},
   "source": [
    "### Авторизация и получение данных о пользователе"
   ]
  },
  {
   "cell_type": "code",
   "execution_count": 13,
   "id": "5c703929",
   "metadata": {},
   "outputs": [
    {
     "name": "stdout",
     "output_type": "stream",
     "text": [
      "201\n"
     ]
    }
   ],
   "source": [
    "url = 'https://api.yclients.com/api/v1/auth'\n",
    "\n",
    "headers = {\n",
    "    \"Authorization\": f\"Bearer {partner_token}\",\n",
    "    \"Accept\": \"application/vnd.yclients.v2+json\"\n",
    "}\n",
    "payload = {\n",
    "    \"login\": login,\n",
    "    \"password\": password\n",
    "}\n",
    "\n",
    "response = requests.post(url, headers=headers, json=payload)\n",
    "user_token = response.json()['data']['user_token'] # получаем юзер токен\n",
    "print(response.status_code)"
   ]
  },
  {
   "cell_type": "markdown",
   "id": "d1a7cdcd",
   "metadata": {},
   "source": [
    "### Устанавливаем заголовки для последующих запросов"
   ]
  },
  {
   "cell_type": "code",
   "execution_count": 14,
   "id": "2751ffce",
   "metadata": {},
   "outputs": [],
   "source": [
    "headers = {\n",
    "    \"Accept\": \"application/vnd.yclients.v2+json\",\n",
    "    \"Content-Type\" : \"application/json\",\n",
    "    \"Authorization\": f\"Bearer {partner_token}, User {user_token}\"\n",
    "}"
   ]
  },
  {
   "cell_type": "markdown",
   "id": "ecd8f5d3",
   "metadata": {},
   "source": [
    "### Получение данных по персоналу\n",
    "\n",
    "  * id\t-\tИдентификатор сотрудника\n",
    "  * name\t-\tИмя сотрудника\n",
    "  * specialization\t-\tСпециализация сотрудника\n",
    "  * position.title\t-\tДолжность сотрудника\n",
    "  * weight\t-\tВес сотрудника. При выводе сотрудники сортируются по весу, сначала более тяжелые\n",
    "  * rating\t-\tРетинг сотрудника\n",
    "  * avatar\t-\tПуть к файлу аватарки сотрудника\n",
    "  * avatar_big\t-\tПуть к файлу аватарки сотрудника в более высоком разрешении\n",
    "  * information\t-\tДополнительная информация о сотруднике (HTML формат)\n",
    "  * hidden\t-\t1 - скрыт от онлайн записей, 0 - не скрыт\n",
    "  * fired\t-\t1 - уволен, 0 - не уволен\n",
    "  * dismissal_date - дата увольнения\n",
    "  * dismissal_reason - причина увольнения\n",
    "  * schedule_till - дата, до которой действует текущее расписание сотрудника\n",
    "  * has_schedule - флаг, указывающий, есть ли у сотрудника настроенное расписание\n",
    "  * user.phone - номер телефона\n",
    "  * user.email - почта"
   ]
  },
  {
   "cell_type": "code",
   "execution_count": 15,
   "id": "bff04074",
   "metadata": {},
   "outputs": [],
   "source": [
    "url = f\"https://api.yclients.com/api/v1/company/{company_id}/staff/\"\n",
    "response = requests.get(url, headers=headers)\n",
    "\n",
    "staff = pd.json_normalize(response.json()['data'])[[\n",
    "    'id', 'name', 'specialization', 'position.title', 'weight', 'rating', 'avatar', \n",
    "    'avatar_big', 'information', 'hidden', 'fired', 'dismissal_date', 'dismissal_reason', \n",
    "    'schedule_till', 'has_schedule', 'user.phone', 'user.email'\n",
    "    ]]\n",
    "# staff"
   ]
  },
  {
   "cell_type": "markdown",
   "id": "3f15b082",
   "metadata": {},
   "source": [
    "### Получение данных по категориям услуг компании\n",
    "\n",
    "  * id\t- Идентификатор категории\n",
    "  * title\t- Название категории\n",
    "  * weight\t- Вес категории (используется для сортировки категорий при отображении)\n",
    "  * staff\t- Список ID сотрудников, оказывающих услугу"
   ]
  },
  {
   "cell_type": "code",
   "execution_count": 16,
   "id": "538434ed",
   "metadata": {},
   "outputs": [],
   "source": [
    "url = f\"https://api.yclients.com/api/v1/company/{company_id}/service_categories/\"\n",
    "response = requests.get(url, headers=headers)\n",
    "\n",
    "service_categories = pd.json_normalize(response.json()['data'])[[\n",
    "    'id', 'category_id', 'salon_service_id', 'title', 'weight', 'staff'\n",
    "    ]]\n",
    "# service_categories"
   ]
  },
  {
   "cell_type": "markdown",
   "id": "40ff45ba",
   "metadata": {},
   "source": [
    "### Получение данных по услугам компании\n",
    "\n",
    "  * booking_title\t-\tНазвание категории\n",
    "  * service_type\t-\t1 - доступна для онлайн записи, 0 - не доступна\n",
    "  * schedule_template_type - тип расписания\n",
    "    * 0 (или null) — Расписание не настроено (нет шаблона).\n",
    "    * 1 — Фиксированное расписание (одинаковое на каждую неделю).\n",
    "    * 2 — Скользящий график (например, 2/2, 3/1 — повторяющиеся смены).\n",
    "    * 3 — Индивидуальное расписание (настроено вручную для конкретных дней)\n",
    "  * Статус онлайн оплаты: 0 — отключена, 1 — включена, 2 — Ограниченная онлайн-оплата\n",
    "  * id\t- Идентификатор услуги\n",
    "  * category_id\t-\tИдентификатор категории, в которой состоит услуга\n",
    "  * weight\t-\tВес категории (используется для сортировки категорий при отображении)\n",
    "  * staff\t-\tСписок сотрудников, оказывающих услугу и длительность сеанса\n",
    "  * duration\t-\tДлительность услуги, по умолчанию равна 3600 секундам"
   ]
  },
  {
   "cell_type": "code",
   "execution_count": 17,
   "id": "cf6d2c81",
   "metadata": {},
   "outputs": [],
   "source": [
    "url = f\"https://api.yclients.com/api/v1/company/{company_id}/services/\"\n",
    "response = requests.get(url, headers=headers)\n",
    "\n",
    "services = pd.json_normalize(response.json()['data'])[[\n",
    "    'booking_title', 'service_type', 'schedule_template_type', 'online_invoicing_status',\n",
    "    'price_prepaid_percent', 'id', 'salon_service_id', 'category_id', 'weight', 'staff', 'duration'\n",
    "]]\n",
    "services['staff'] = services['staff'].apply(transform_staff)\n",
    "# services.head()"
   ]
  },
  {
   "cell_type": "markdown",
   "id": "80d9e5e5",
   "metadata": {},
   "source": [
    "### Получаем данные по клиентам"
   ]
  },
  {
   "cell_type": "code",
   "execution_count": null,
   "id": "c741d26d",
   "metadata": {},
   "outputs": [],
   "source": [
    "url = f\"https://api.yclients.com/api/v1/company/{company_id}/clients/search\"\n",
    "\n",
    "body = {\n",
    "    \"fields\": [\"id\", \"name\", \"surname\", \"phone\", \"email\"]\n",
    "}\n",
    "clients = pd.DataFrame(get_all_pages(url, headers, method='POST', body=body))\n",
    "# clients"
   ]
  },
  {
   "cell_type": "markdown",
   "id": "a8617876",
   "metadata": {},
   "source": [
    "### Получаем данные по записям\n",
    "\n",
    "  * id - идентификатор записи\n",
    "  * staff_id - идентификатор сотрудника\n",
    "  * services - инфо по услуге\n",
    "  * goods_transactions - инфо по сопутствующим товарам\n",
    "  * client - идентификатор клиента\n",
    "  * date - дата записи\n",
    "  * create_date - дата создания записи\n",
    "  * attendance - Общий статус посещения\n",
    "    * 0 — Не обработан (запись создана, но клиент не отмечен).\n",
    "    * 1 — Посещение завершено (клиент пришёл, услуги оказаны).\n",
    "    * 2 — Клиент не пришёл (но запись не отменена).\n",
    "    * 3 — Запись отменена.\n",
    "  * length - длительность услуги\n",
    "  * visit_id - идентификатор визита, не то же самое что идентификатор записи\n",
    "  * paid_full - идентификатор полной оплаты\n",
    "  * payment_status - статус оплаты\n",
    "    * 0\tНе оплачено\tКлиент не произвёл оплату.\n",
    "    * 1\tОплачено частично\tВнесена часть суммы (например, предоплата).\n",
    "    * 2\tОплачено полностью\tУслуга/товар оплачены полностью.\n",
    "    * 3\tВозврат\tСредства возвращены клиенту.\n",
    "    * 4\tОжидает подтверждения\tПлатёж в обработке (например, банковский перевод)."
   ]
  },
  {
   "cell_type": "code",
   "execution_count": null,
   "id": "616101f6",
   "metadata": {},
   "outputs": [],
   "source": [
    "url = f\"https://api.yclients.com/api/v1/records/{company_id}\"\n",
    "\n",
    "records = pd.DataFrame(get_all_pages(url, headers))[[\n",
    "    'id', 'staff_id', 'services', 'goods_transactions', 'client', 'date',\n",
    "    'create_date', 'attendance', 'length', 'visit_id', 'paid_full', 'payment_status'\n",
    "]]\n",
    "records.loc[records['client'].notnull(), 'client'] \\\n",
    "    = records.loc[records['client'].notnull(), 'client'].apply(lambda x: x.get('id'))\n",
    "# records"
   ]
  },
  {
   "cell_type": "markdown",
   "id": "fc92cae7",
   "metadata": {},
   "source": [
    "### Получаем список товаров\n",
    "  * title\t-\tНаименование товара\n",
    "  * category - Категория\n",
    "  * category_id - Идентификатор категории\n",
    "  * good_id\t-\tИдентификатор товара\n",
    "  * cost\t-\tЦена продажи\n",
    "  * unit_short_title\t-\tЕдиница измерения для продажи\n",
    "  * actual_cost\t-\tСебестоимость\n",
    "  * last_change_date\tstring\tДата последнего изменения сущности"
   ]
  },
  {
   "cell_type": "code",
   "execution_count": 39,
   "id": "afdbafbc",
   "metadata": {},
   "outputs": [
    {
     "name": "stderr",
     "output_type": "stream",
     "text": [
      "Загрузка : 347it [00:05, 65.43it/s]\n"
     ]
    }
   ],
   "source": [
    "url = f\"https://api.yclients.com/api/v1/goods/{company_id}/\"\n",
    "\n",
    "goods = pd.DataFrame(get_all_pages(url, headers))[[\n",
    "    'title', 'category', 'category_id', 'good_id', 'cost', \n",
    "    'unit_short_title', 'actual_cost','last_change_date'\n",
    "]]\n",
    "# goods "
   ]
  },
  {
   "cell_type": "markdown",
   "id": "e21b4381",
   "metadata": {},
   "source": [
    "### Получаем данные по транакциям продуктов \n",
    "# ОШИБКА"
   ]
  },
  {
   "cell_type": "code",
   "execution_count": null,
   "id": "51f0c9a1",
   "metadata": {},
   "outputs": [
    {
     "name": "stderr",
     "output_type": "stream",
     "text": [
      "Загрузка transactions: 0it [00:00, ?it/s]"
     ]
    },
    {
     "name": "stdout",
     "output_type": "stream",
     "text": [
      "Ошибка запроса: 404 {\"success\":false,\"data\":null,\"meta\":{\"message\":\"Произошла ошибка\"}}\n"
     ]
    },
    {
     "name": "stderr",
     "output_type": "stream",
     "text": [
      "\n"
     ]
    },
    {
     "data": {
      "text/html": [
       "<div>\n",
       "<style scoped>\n",
       "    .dataframe tbody tr th:only-of-type {\n",
       "        vertical-align: middle;\n",
       "    }\n",
       "\n",
       "    .dataframe tbody tr th {\n",
       "        vertical-align: top;\n",
       "    }\n",
       "\n",
       "    .dataframe thead th {\n",
       "        text-align: right;\n",
       "    }\n",
       "</style>\n",
       "<table border=\"1\" class=\"dataframe\">\n",
       "  <thead>\n",
       "    <tr style=\"text-align: right;\">\n",
       "      <th></th>\n",
       "    </tr>\n",
       "  </thead>\n",
       "  <tbody>\n",
       "  </tbody>\n",
       "</table>\n",
       "</div>"
      ],
      "text/plain": [
       "Empty DataFrame\n",
       "Columns: []\n",
       "Index: []"
      ]
     },
     "execution_count": 46,
     "metadata": {},
     "output_type": "execute_result"
    }
   ],
   "source": [
    "# url = \"https://api.yclients.com/api/v1/company/{company_id}/goods/transactions\"\n",
    "\n",
    "# goods_transactions = pd.DataFrame(get_all_pages(url, headers))\n",
    "# goods_transactions"
   ]
  },
  {
   "cell_type": "markdown",
   "id": "f0404a1e",
   "metadata": {},
   "source": [
    "### Получаем расписание сотрудников"
   ]
  },
  {
   "cell_type": "code",
   "execution_count": null,
   "id": "31594b31",
   "metadata": {},
   "outputs": [],
   "source": [
    "# url = f\"https://api.yclients.com/api/v1/company/{company_id}/staff/schedule\"\n",
    "# params = {\n",
    "#     \"start_date\":\"2024-01-01\", \n",
    "#     \"end_date\" :\"2025-05-30\"\n",
    "# }\n",
    "# response = requests.get(url, headers=headers, params=params)\n",
    "# response.json()['data']"
   ]
  },
  {
   "cell_type": "markdown",
   "id": "60df6133",
   "metadata": {},
   "source": [
    "### Задаем параметры для поключения к БД"
   ]
  },
  {
   "cell_type": "code",
   "execution_count": null,
   "id": "afdfa002",
   "metadata": {},
   "outputs": [],
   "source": [
    "# === Данные подключения к PostgreSQL ===\n",
    "db_user = 'user'\n",
    "db_password = 'password'\n",
    "db_name = 'Monada'\n",
    "db_host = 'localhost'\n",
    "db_port = '5433'\n",
    "\n",
    "# Строка подключения\n",
    "connection_string = f'postgresql+psycopg2://{db_user}:{db_password}@{db_host}:{db_port}/{db_name}'\n",
    "engine = create_engine(connection_string)"
   ]
  },
  {
   "cell_type": "markdown",
   "id": "81fad32a",
   "metadata": {},
   "source": [
    "### Создаем функции получения данных каждой сущности"
   ]
  },
  {
   "cell_type": "code",
   "execution_count": null,
   "id": "b3b1af11",
   "metadata": {},
   "outputs": [],
   "source": [
    "def get_goods_transactions():\n",
    "    url = f\"https://api.yclients.com/api/v1/company/{company_id}/goods/transactions\"\n",
    "    df = pd.DataFrame(get_all_pages(url, headers, method='GET'))\n",
    "    return df\n",
    "\n",
    "def get_finance_pay_methods():\n",
    "    url = f\"https://api.yclients.com/api/v1/finance/pay_methods/{company_id}\"\n",
    "    df = pd.DataFrame(get_all_pages(url, headers, method='GET'))\n",
    "    return pd.json_normalize(df)\n",
    "\n",
    "def get_finance_operations():\n",
    "    url = f\"https://api.yclients.com/api/v1/finance/operations/{company_id}\"\n",
    "    df = pd.DataFrame(get_all_pages(url, headers, method='GET'))\n",
    "    return pd.json_normalize(df)\n",
    "\n",
    "def get_schedules():\n",
    "    url = f\"https://api.yclients.com/api/v1/company/{company_id}/schedules\"\n",
    "    df = pd.DataFrame(get_all_pages(url, headers, method='GET'))\n",
    "    return pd.json_normalize(df)\n"
   ]
  },
  {
   "cell_type": "markdown",
   "id": "794fde82",
   "metadata": {},
   "source": [
    "### Загружаем данные в БД"
   ]
  },
  {
   "cell_type": "code",
   "execution_count": null,
   "id": "0a2f89f4",
   "metadata": {},
   "outputs": [],
   "source": [
    "# === Основной процесс ===\n",
    "\n",
    "print(\"🚀 Начинаем полную загрузку данных из YClients и запись в PostgreSQL...\\n\")\n",
    "\n",
    "entities = {\n",
    "    \"clients\": clients,\n",
    "    \"records\": records,\n",
    "    \"staff\": staff,\n",
    "    \"service_categories\": service_categories,\n",
    "    \"services\" : services,\n",
    "    \"goods\": goods\n",
    "    # \"goods_transactions\": goods_transactions,\n",
    "    # \"finance_operations\": finance_operations,\n",
    "    # \"schedules\": schedules\n",
    "}\n",
    "\n",
    "for table_name, df in entities.items():\n",
    "    print(f\"\\n=== {table_name.upper()} ===\")\n",
    "    upload_to_postgres(df, table_name)\n",
    "\n",
    "print(\"\\n🎉 Все данные успешно загружены в БД!\")"
   ]
  }
 ],
 "metadata": {
  "kernelspec": {
   "display_name": "Python 3",
   "language": "python",
   "name": "python3"
  },
  "language_info": {
   "codemirror_mode": {
    "name": "ipython",
    "version": 3
   },
   "file_extension": ".py",
   "mimetype": "text/x-python",
   "name": "python",
   "nbconvert_exporter": "python",
   "pygments_lexer": "ipython3",
   "version": "3.10.11"
  }
 },
 "nbformat": 4,
 "nbformat_minor": 5
}
